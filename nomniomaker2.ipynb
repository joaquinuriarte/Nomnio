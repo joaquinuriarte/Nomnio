{
 "cells": [
  {
   "cell_type": "markdown",
   "id": "01554afa",
   "metadata": {},
   "source": [
    "### Line length\n",
    "- https://en.wikipedia.org/wiki/Line_length#:~:text=Traditional%20line%20length%20research%2C%20limited,(including%20letters%20and%20spaces).\n",
    "- Ideal is 66 cpl (characters per line)."
   ]
  },
  {
   "cell_type": "code",
   "execution_count": 133,
   "id": "232fb165",
   "metadata": {},
   "outputs": [],
   "source": [
    "import numpy as np\n",
    "from copy import deepcopy\n",
    "from termcolor import colored\n",
    "from PIL import Image as im"
   ]
  },
  {
   "cell_type": "code",
   "execution_count": 159,
   "id": "030abb8d",
   "metadata": {},
   "outputs": [],
   "source": [
    "with open(\"Examples/pilot.txt\", \"r\") as f:\n",
    "    text = f.read()"
   ]
  },
  {
   "cell_type": "code",
   "execution_count": 282,
   "id": "02104c13",
   "metadata": {},
   "outputs": [
    {
     "name": "stdout",
     "output_type": "stream",
     "text": [
      "The fileObject will be the name of any object that you assign the\n",
      "open variable to. The offset n variable is required and denotes\n",
      "the position of the read/write pointer within the file that you\n",
      "are “seeking”. The whence argument is optional and defaults to 0,\n",
      "which means absolute file positioning, other values are 1 which\n",
      "means seek relative to the current position and 2 means seek\n",
      "relative to the file's end. Below are a few examples with\n",
      "different optional arguments. The fileObject will be the name of\n",
      "any object that you assign the open variable to. The offset\n",
      "variable is required and denotes the position of the read/write\n",
      "pointer within the file that you are “seeking”. The whence\n",
      "argument is optional and defaults to 0, which means absolute file\n",
      "positioning, other values are 1 which means seek relative to the\n",
      "current position and 2 means seek relative to the file's end.\n",
      "Below are a few examples with different optional arguments. The\n",
      "fileObject will be the name of any object that you assign the\n",
      "open variable to. The offset variable is required and denotes the\n",
      "position of the read/write pointer within the file that you are\n",
      "“seeking”. The whence argument is optional and defaults to 0,\n",
      "which means absolute file positioning, other values are 1 which\n",
      "means seek relative to the current position and 2 means seek\n",
      "relative to the file's end. Below are a few examples with\n",
      "different optional arguments. The fileObject will be the name of\n",
      "any object that you assign the open variable to. The offset\n",
      "variable is required and denotes the position of the read/write\n",
      "pointer within the file that you are “seeking”. The whence\n",
      "argument is optional and defaults to 0, which means absolute file\n",
      "positioning, other values are 1 which means seek relative to the\n",
      "current position and 2 means seek relative to the file's end.\n"
     ]
    }
   ],
   "source": [
    "s = 0\n",
    "l = []\n",
    "t = []\n",
    "for i in text.split():\n",
    "    s += len(i) + 1\n",
    "    if s > 66:\n",
    "        l.append(deepcopy(t))\n",
    "        t = []\n",
    "        s = len(i) + 1\n",
    "    t.append(i)\n",
    "text1 = '\\n'.join([' '.join(i) for i in l])\n",
    "print(text1)"
   ]
  },
  {
   "cell_type": "code",
   "execution_count": 283,
   "id": "2ef5a101",
   "metadata": {},
   "outputs": [],
   "source": [
    "t = []\n",
    "l = []\n",
    "for i in text1:\n",
    "    if i == ' ':\n",
    "        t.append(255)\n",
    "    elif i == '\\n':\n",
    "        l.append(deepcopy(t))\n",
    "        t = []\n",
    "    else:\n",
    "        t.append(0)\n",
    "l.append(deepcopy(t))"
   ]
  },
  {
   "cell_type": "code",
   "execution_count": 307,
   "id": "a71c1c33",
   "metadata": {},
   "outputs": [
    {
     "data": {
      "text/plain": [
       "(565500, 'n=870', 'm=650')"
      ]
     },
     "execution_count": 307,
     "metadata": {},
     "output_type": "execute_result"
    }
   ],
   "source": [
    "x, y = 30, 10\n",
    "\n",
    "m = max([len(i) for i in l]) *y\n",
    "n = len(l) *x\n",
    "n*m, f'{n=}', f'{m=}'"
   ]
  },
  {
   "cell_type": "code",
   "execution_count": 305,
   "id": "1429993c",
   "metadata": {},
   "outputs": [],
   "source": [
    "raw = np.ones((n,m))\n",
    "gh = 3\n",
    "gv = 3\n",
    "for i in range(1,len(l) - 1):\n",
    "    for j in range(1,len(l[i]) - 1):\n",
    "        if (l[i][j]):\n",
    "            raw[i*x:(i*x)+gv, j * y: (j*y)+gh] = 255"
   ]
  },
  {
   "cell_type": "code",
   "execution_count": 306,
   "id": "13d1f1b1",
   "metadata": {},
   "outputs": [],
   "source": [
    "data = im.fromarray(raw)\n",
    "data = data.convert(\"L\")\n",
    "data.save('nomnio.png')"
   ]
  },
  {
   "cell_type": "code",
   "execution_count": 131,
   "id": "a5b7a429",
   "metadata": {},
   "outputs": [],
   "source": [
    "final = [[colored(' ','white','on_green') if j else ' ' for j in i ] for i in l]\n"
   ]
  },
  {
   "cell_type": "code",
   "execution_count": 132,
   "id": "68e8ff87",
   "metadata": {},
   "outputs": [
    {
     "name": "stdout",
     "output_type": "stream",
     "text": [
      "   \u001b[42m\u001b[37m \u001b[0m          \u001b[42m\u001b[37m \u001b[0m    \u001b[42m\u001b[37m \u001b[0m  \u001b[42m\u001b[37m \u001b[0m   \u001b[42m\u001b[37m \u001b[0m    \u001b[42m\u001b[37m \u001b[0m  \u001b[42m\u001b[37m \u001b[0m   \u001b[42m\u001b[37m \u001b[0m      \u001b[42m\u001b[37m \u001b[0m    \u001b[42m\u001b[37m \u001b[0m   \u001b[42m\u001b[37m \u001b[0m      \u001b[42m\u001b[37m \u001b[0m   \n",
      "    \u001b[42m\u001b[37m \u001b[0m        \u001b[42m\u001b[37m \u001b[0m   \u001b[42m\u001b[37m \u001b[0m   \u001b[42m\u001b[37m \u001b[0m      \u001b[42m\u001b[37m \u001b[0m \u001b[42m\u001b[37m \u001b[0m        \u001b[42m\u001b[37m \u001b[0m  \u001b[42m\u001b[37m \u001b[0m        \u001b[42m\u001b[37m \u001b[0m   \u001b[42m\u001b[37m \u001b[0m       \n",
      "   \u001b[42m\u001b[37m \u001b[0m        \u001b[42m\u001b[37m \u001b[0m  \u001b[42m\u001b[37m \u001b[0m   \u001b[42m\u001b[37m \u001b[0m          \u001b[42m\u001b[37m \u001b[0m       \u001b[42m\u001b[37m \u001b[0m      \u001b[42m\u001b[37m \u001b[0m   \u001b[42m\u001b[37m \u001b[0m    \u001b[42m\u001b[37m \u001b[0m    \u001b[42m\u001b[37m \u001b[0m   \n",
      "   \u001b[42m\u001b[37m \u001b[0m          \u001b[42m\u001b[37m \u001b[0m   \u001b[42m\u001b[37m \u001b[0m      \u001b[42m\u001b[37m \u001b[0m        \u001b[42m\u001b[37m \u001b[0m  \u001b[42m\u001b[37m \u001b[0m        \u001b[42m\u001b[37m \u001b[0m   \u001b[42m\u001b[37m \u001b[0m        \u001b[42m\u001b[37m \u001b[0m  \u001b[42m\u001b[37m \u001b[0m  \n",
      "     \u001b[42m\u001b[37m \u001b[0m     \u001b[42m\u001b[37m \u001b[0m        \u001b[42m\u001b[37m \u001b[0m    \u001b[42m\u001b[37m \u001b[0m            \u001b[42m\u001b[37m \u001b[0m     \u001b[42m\u001b[37m \u001b[0m      \u001b[42m\u001b[37m \u001b[0m   \u001b[42m\u001b[37m \u001b[0m \u001b[42m\u001b[37m \u001b[0m     \n",
      "     \u001b[42m\u001b[37m \u001b[0m    \u001b[42m\u001b[37m \u001b[0m        \u001b[42m\u001b[37m \u001b[0m  \u001b[42m\u001b[37m \u001b[0m   \u001b[42m\u001b[37m \u001b[0m       \u001b[42m\u001b[37m \u001b[0m        \u001b[42m\u001b[37m \u001b[0m   \u001b[42m\u001b[37m \u001b[0m \u001b[42m\u001b[37m \u001b[0m     \u001b[42m\u001b[37m \u001b[0m    \n",
      "        \u001b[42m\u001b[37m \u001b[0m  \u001b[42m\u001b[37m \u001b[0m   \u001b[42m\u001b[37m \u001b[0m      \u001b[42m\u001b[37m \u001b[0m    \u001b[42m\u001b[37m \u001b[0m     \u001b[42m\u001b[37m \u001b[0m   \u001b[42m\u001b[37m \u001b[0m \u001b[42m\u001b[37m \u001b[0m   \u001b[42m\u001b[37m \u001b[0m        \u001b[42m\u001b[37m \u001b[0m    \n",
      "         \u001b[42m\u001b[37m \u001b[0m        \u001b[42m\u001b[37m \u001b[0m          \u001b[42m\u001b[37m \u001b[0m   \u001b[42m\u001b[37m \u001b[0m          \u001b[42m\u001b[37m \u001b[0m    \u001b[42m\u001b[37m \u001b[0m  \u001b[42m\u001b[37m \u001b[0m   \u001b[42m\u001b[37m \u001b[0m    \u001b[42m\u001b[37m \u001b[0m  \n",
      "   \u001b[42m\u001b[37m \u001b[0m      \u001b[42m\u001b[37m \u001b[0m    \u001b[42m\u001b[37m \u001b[0m   \u001b[42m\u001b[37m \u001b[0m      \u001b[42m\u001b[37m \u001b[0m   \u001b[42m\u001b[37m \u001b[0m    \u001b[42m\u001b[37m \u001b[0m        \u001b[42m\u001b[37m \u001b[0m   \u001b[42m\u001b[37m \u001b[0m   \u001b[42m\u001b[37m \u001b[0m      \n",
      "        \u001b[42m\u001b[37m \u001b[0m  \u001b[42m\u001b[37m \u001b[0m        \u001b[42m\u001b[37m \u001b[0m   \u001b[42m\u001b[37m \u001b[0m       \u001b[42m\u001b[37m \u001b[0m   \u001b[42m\u001b[37m \u001b[0m        \u001b[42m\u001b[37m \u001b[0m  \u001b[42m\u001b[37m \u001b[0m   \u001b[42m\u001b[37m \u001b[0m          \n",
      "       \u001b[42m\u001b[37m \u001b[0m      \u001b[42m\u001b[37m \u001b[0m   \u001b[42m\u001b[37m \u001b[0m    \u001b[42m\u001b[37m \u001b[0m    \u001b[42m\u001b[37m \u001b[0m   \u001b[42m\u001b[37m \u001b[0m   \u001b[42m\u001b[37m \u001b[0m          \u001b[42m\u001b[37m \u001b[0m   \u001b[42m\u001b[37m \u001b[0m      \n",
      "        \u001b[42m\u001b[37m \u001b[0m  \u001b[42m\u001b[37m \u001b[0m        \u001b[42m\u001b[37m \u001b[0m   \u001b[42m\u001b[37m \u001b[0m        \u001b[42m\u001b[37m \u001b[0m  \u001b[42m\u001b[37m \u001b[0m  \u001b[42m\u001b[37m \u001b[0m     \u001b[42m\u001b[37m \u001b[0m     \u001b[42m\u001b[37m \u001b[0m        \u001b[42m\u001b[37m \u001b[0m    \n",
      "            \u001b[42m\u001b[37m \u001b[0m     \u001b[42m\u001b[37m \u001b[0m      \u001b[42m\u001b[37m \u001b[0m   \u001b[42m\u001b[37m \u001b[0m \u001b[42m\u001b[37m \u001b[0m     \u001b[42m\u001b[37m \u001b[0m     \u001b[42m\u001b[37m \u001b[0m    \u001b[42m\u001b[37m \u001b[0m        \u001b[42m\u001b[37m \u001b[0m  \u001b[42m\u001b[37m \u001b[0m   \n",
      "       \u001b[42m\u001b[37m \u001b[0m        \u001b[42m\u001b[37m \u001b[0m   \u001b[42m\u001b[37m \u001b[0m \u001b[42m\u001b[37m \u001b[0m     \u001b[42m\u001b[37m \u001b[0m    \u001b[42m\u001b[37m \u001b[0m        \u001b[42m\u001b[37m \u001b[0m  \u001b[42m\u001b[37m \u001b[0m   \u001b[42m\u001b[37m \u001b[0m      \u001b[42m\u001b[37m \u001b[0m    \n",
      "     \u001b[42m\u001b[37m \u001b[0m   \u001b[42m\u001b[37m \u001b[0m \u001b[42m\u001b[37m \u001b[0m   \u001b[42m\u001b[37m \u001b[0m        \u001b[42m\u001b[37m \u001b[0m    \u001b[42m\u001b[37m \u001b[0m         \u001b[42m\u001b[37m \u001b[0m        \u001b[42m\u001b[37m \u001b[0m          \u001b[42m\u001b[37m \u001b[0m   \n",
      "          \u001b[42m\u001b[37m \u001b[0m    \u001b[42m\u001b[37m \u001b[0m  \u001b[42m\u001b[37m \u001b[0m   \u001b[42m\u001b[37m \u001b[0m    \u001b[42m\u001b[37m \u001b[0m  \u001b[42m\u001b[37m \u001b[0m   \u001b[42m\u001b[37m \u001b[0m      \u001b[42m\u001b[37m \u001b[0m    \u001b[42m\u001b[37m \u001b[0m   \u001b[42m\u001b[37m \u001b[0m      \u001b[42m\u001b[37m \u001b[0m   \n",
      "    \u001b[42m\u001b[37m \u001b[0m        \u001b[42m\u001b[37m \u001b[0m   \u001b[42m\u001b[37m \u001b[0m   \u001b[42m\u001b[37m \u001b[0m      \u001b[42m\u001b[37m \u001b[0m        \u001b[42m\u001b[37m \u001b[0m  \u001b[42m\u001b[37m \u001b[0m        \u001b[42m\u001b[37m \u001b[0m   \u001b[42m\u001b[37m \u001b[0m       \u001b[42m\u001b[37m \u001b[0m   \n",
      "        \u001b[42m\u001b[37m \u001b[0m  \u001b[42m\u001b[37m \u001b[0m   \u001b[42m\u001b[37m \u001b[0m          \u001b[42m\u001b[37m \u001b[0m       \u001b[42m\u001b[37m \u001b[0m      \u001b[42m\u001b[37m \u001b[0m   \u001b[42m\u001b[37m \u001b[0m    \u001b[42m\u001b[37m \u001b[0m    \u001b[42m\u001b[37m \u001b[0m   \u001b[42m\u001b[37m \u001b[0m   \n",
      "          \u001b[42m\u001b[37m \u001b[0m   \u001b[42m\u001b[37m \u001b[0m      \u001b[42m\u001b[37m \u001b[0m        \u001b[42m\u001b[37m \u001b[0m  \u001b[42m\u001b[37m \u001b[0m        \u001b[42m\u001b[37m \u001b[0m   \u001b[42m\u001b[37m \u001b[0m        \u001b[42m\u001b[37m \u001b[0m  \u001b[42m\u001b[37m \u001b[0m  \n",
      "     \u001b[42m\u001b[37m \u001b[0m     \u001b[42m\u001b[37m \u001b[0m        \u001b[42m\u001b[37m \u001b[0m    \u001b[42m\u001b[37m \u001b[0m            \u001b[42m\u001b[37m \u001b[0m     \u001b[42m\u001b[37m \u001b[0m      \u001b[42m\u001b[37m \u001b[0m   \u001b[42m\u001b[37m \u001b[0m \u001b[42m\u001b[37m \u001b[0m     \n",
      "     \u001b[42m\u001b[37m \u001b[0m    \u001b[42m\u001b[37m \u001b[0m        \u001b[42m\u001b[37m \u001b[0m  \u001b[42m\u001b[37m \u001b[0m   \u001b[42m\u001b[37m \u001b[0m       \u001b[42m\u001b[37m \u001b[0m        \u001b[42m\u001b[37m \u001b[0m   \u001b[42m\u001b[37m \u001b[0m \u001b[42m\u001b[37m \u001b[0m     \u001b[42m\u001b[37m \u001b[0m    \n",
      "        \u001b[42m\u001b[37m \u001b[0m  \u001b[42m\u001b[37m \u001b[0m   \u001b[42m\u001b[37m \u001b[0m      \u001b[42m\u001b[37m \u001b[0m    \u001b[42m\u001b[37m \u001b[0m     \u001b[42m\u001b[37m \u001b[0m   \u001b[42m\u001b[37m \u001b[0m \u001b[42m\u001b[37m \u001b[0m   \u001b[42m\u001b[37m \u001b[0m        \u001b[42m\u001b[37m \u001b[0m    \n",
      "         \u001b[42m\u001b[37m \u001b[0m        \u001b[42m\u001b[37m \u001b[0m          \u001b[42m\u001b[37m \u001b[0m   \u001b[42m\u001b[37m \u001b[0m          \u001b[42m\u001b[37m \u001b[0m    \u001b[42m\u001b[37m \u001b[0m  \u001b[42m\u001b[37m \u001b[0m   \u001b[42m\u001b[37m \u001b[0m    \u001b[42m\u001b[37m \u001b[0m  \n",
      "   \u001b[42m\u001b[37m \u001b[0m      \u001b[42m\u001b[37m \u001b[0m    \u001b[42m\u001b[37m \u001b[0m   \u001b[42m\u001b[37m \u001b[0m      \u001b[42m\u001b[37m \u001b[0m   \u001b[42m\u001b[37m \u001b[0m    \u001b[42m\u001b[37m \u001b[0m        \u001b[42m\u001b[37m \u001b[0m   \u001b[42m\u001b[37m \u001b[0m   \u001b[42m\u001b[37m \u001b[0m      \n",
      "        \u001b[42m\u001b[37m \u001b[0m  \u001b[42m\u001b[37m \u001b[0m        \u001b[42m\u001b[37m \u001b[0m   \u001b[42m\u001b[37m \u001b[0m       \u001b[42m\u001b[37m \u001b[0m   \u001b[42m\u001b[37m \u001b[0m        \u001b[42m\u001b[37m \u001b[0m  \u001b[42m\u001b[37m \u001b[0m   \u001b[42m\u001b[37m \u001b[0m          \n",
      "       \u001b[42m\u001b[37m \u001b[0m      \u001b[42m\u001b[37m \u001b[0m   \u001b[42m\u001b[37m \u001b[0m    \u001b[42m\u001b[37m \u001b[0m    \u001b[42m\u001b[37m \u001b[0m   \u001b[42m\u001b[37m \u001b[0m   \u001b[42m\u001b[37m \u001b[0m          \u001b[42m\u001b[37m \u001b[0m   \u001b[42m\u001b[37m \u001b[0m      \n",
      "        \u001b[42m\u001b[37m \u001b[0m  \u001b[42m\u001b[37m \u001b[0m        \u001b[42m\u001b[37m \u001b[0m   \u001b[42m\u001b[37m \u001b[0m        \u001b[42m\u001b[37m \u001b[0m  \u001b[42m\u001b[37m \u001b[0m  \u001b[42m\u001b[37m \u001b[0m     \u001b[42m\u001b[37m \u001b[0m     \u001b[42m\u001b[37m \u001b[0m        \u001b[42m\u001b[37m \u001b[0m    \n",
      "            \u001b[42m\u001b[37m \u001b[0m     \u001b[42m\u001b[37m \u001b[0m      \u001b[42m\u001b[37m \u001b[0m   \u001b[42m\u001b[37m \u001b[0m \u001b[42m\u001b[37m \u001b[0m     \u001b[42m\u001b[37m \u001b[0m     \u001b[42m\u001b[37m \u001b[0m    \u001b[42m\u001b[37m \u001b[0m        \u001b[42m\u001b[37m \u001b[0m  \u001b[42m\u001b[37m \u001b[0m   \n",
      "       \u001b[42m\u001b[37m \u001b[0m        \u001b[42m\u001b[37m \u001b[0m   \u001b[42m\u001b[37m \u001b[0m \u001b[42m\u001b[37m \u001b[0m     \u001b[42m\u001b[37m \u001b[0m    \u001b[42m\u001b[37m \u001b[0m        \u001b[42m\u001b[37m \u001b[0m  \u001b[42m\u001b[37m \u001b[0m   \u001b[42m\u001b[37m \u001b[0m      \u001b[42m\u001b[37m \u001b[0m    \n"
     ]
    }
   ],
   "source": [
    "final = \"\\n\".join([\"\".join(i) for i in final])\n",
    "print(final)"
   ]
  },
  {
   "cell_type": "code",
   "execution_count": 48,
   "id": "d38f14b6",
   "metadata": {},
   "outputs": [],
   "source": [
    "final = [[colored(' ','white','on_green') if j != \" \" else \" \" for j in i] for i in t]"
   ]
  },
  {
   "cell_type": "code",
   "execution_count": null,
   "id": "4898a1c7",
   "metadata": {},
   "outputs": [],
   "source": []
  }
 ],
 "metadata": {
  "kernelspec": {
   "display_name": "Python 3 (ipykernel)",
   "language": "python",
   "name": "python3"
  },
  "language_info": {
   "codemirror_mode": {
    "name": "ipython",
    "version": 3
   },
   "file_extension": ".py",
   "mimetype": "text/x-python",
   "name": "python",
   "nbconvert_exporter": "python",
   "pygments_lexer": "ipython3",
   "version": "3.9.6"
  }
 },
 "nbformat": 4,
 "nbformat_minor": 5
}
